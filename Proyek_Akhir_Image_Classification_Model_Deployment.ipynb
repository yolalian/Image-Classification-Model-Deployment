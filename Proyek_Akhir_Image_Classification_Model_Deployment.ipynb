{
  "nbformat": 4,
  "nbformat_minor": 0,
  "metadata": {
    "colab": {
      "provenance": [],
      "gpuType": "T4"
    },
    "kernelspec": {
      "name": "python3",
      "display_name": "Python 3"
    },
    "language_info": {
      "name": "python"
    },
    "accelerator": "GPU"
  },
  "cells": [
    {
      "cell_type": "markdown",
      "source": [
        "Nama : Yolanda Ester Berliana Ritonga\n",
        "\n",
        "Email : yolandaesterbrtg@gmail.com\n",
        "\n",
        "Proyek Akhir : Image Classification Model Deployment"
      ],
      "metadata": {
        "id": "g8dyFxe0F1yb"
      }
    },
    {
      "cell_type": "code",
      "source": [
        "!pip install opendatasets"
      ],
      "metadata": {
        "colab": {
          "base_uri": "https://localhost:8080/"
        },
        "id": "aKAvdm9nW_IV",
        "outputId": "96c82b2c-238e-451e-b35e-0ed021fd3470"
      },
      "execution_count": 3,
      "outputs": [
        {
          "output_type": "stream",
          "name": "stdout",
          "text": [
            "Requirement already satisfied: opendatasets in /usr/local/lib/python3.10/dist-packages (0.1.22)\n",
            "Requirement already satisfied: tqdm in /usr/local/lib/python3.10/dist-packages (from opendatasets) (4.66.1)\n",
            "Requirement already satisfied: kaggle in /usr/local/lib/python3.10/dist-packages (from opendatasets) (1.5.16)\n",
            "Requirement already satisfied: click in /usr/local/lib/python3.10/dist-packages (from opendatasets) (8.1.7)\n",
            "Requirement already satisfied: six>=1.10 in /usr/local/lib/python3.10/dist-packages (from kaggle->opendatasets) (1.16.0)\n",
            "Requirement already satisfied: certifi in /usr/local/lib/python3.10/dist-packages (from kaggle->opendatasets) (2023.11.17)\n",
            "Requirement already satisfied: python-dateutil in /usr/local/lib/python3.10/dist-packages (from kaggle->opendatasets) (2.8.2)\n",
            "Requirement already satisfied: requests in /usr/local/lib/python3.10/dist-packages (from kaggle->opendatasets) (2.31.0)\n",
            "Requirement already satisfied: python-slugify in /usr/local/lib/python3.10/dist-packages (from kaggle->opendatasets) (8.0.1)\n",
            "Requirement already satisfied: urllib3 in /usr/local/lib/python3.10/dist-packages (from kaggle->opendatasets) (2.0.7)\n",
            "Requirement already satisfied: bleach in /usr/local/lib/python3.10/dist-packages (from kaggle->opendatasets) (6.1.0)\n",
            "Requirement already satisfied: webencodings in /usr/local/lib/python3.10/dist-packages (from bleach->kaggle->opendatasets) (0.5.1)\n",
            "Requirement already satisfied: text-unidecode>=1.3 in /usr/local/lib/python3.10/dist-packages (from python-slugify->kaggle->opendatasets) (1.3)\n",
            "Requirement already satisfied: charset-normalizer<4,>=2 in /usr/local/lib/python3.10/dist-packages (from requests->kaggle->opendatasets) (3.3.2)\n",
            "Requirement already satisfied: idna<4,>=2.5 in /usr/local/lib/python3.10/dist-packages (from requests->kaggle->opendatasets) (3.6)\n"
          ]
        }
      ]
    },
    {
      "cell_type": "code",
      "source": [
        "import opendatasets as od\n",
        "import os\n",
        "from PIL import Image\n",
        "from sklearn.model_selection import train_test_split\n",
        "from tensorflow.keras.models import Sequential\n",
        "from tensorflow.keras.layers import Conv2D, MaxPooling2D, Flatten, Dense, Dropout\n",
        "from tensorflow.keras.applications import InceptionV3\n",
        "from tensorflow.keras.optimizers import Adam\n",
        "from tensorflow.keras.preprocessing.image import ImageDataGenerator\n",
        "from tensorflow.keras.callbacks import ModelCheckpoint, EarlyStopping\n",
        "import matplotlib.pyplot as plt\n",
        "import shutil\n",
        "import tensorflow as tf"
      ],
      "metadata": {
        "id": "iENnVC1vXJ-v"
      },
      "execution_count": 4,
      "outputs": []
    },
    {
      "cell_type": "markdown",
      "source": [
        "**Download Dataset**"
      ],
      "metadata": {
        "id": "IQfdWXr38gnr"
      }
    },
    {
      "cell_type": "code",
      "source": [
        "od.download('https://www.kaggle.com/datasets/muratkokludataset/rice-image-dataset')"
      ],
      "metadata": {
        "colab": {
          "base_uri": "https://localhost:8080/"
        },
        "id": "jb8Mcj-PXQay",
        "outputId": "50deffc1-8ebe-4833-f793-eebbee1b6923"
      },
      "execution_count": 5,
      "outputs": [
        {
          "output_type": "stream",
          "name": "stdout",
          "text": [
            "Please provide your Kaggle credentials to download this dataset. Learn more: http://bit.ly/kaggle-creds\n",
            "Your Kaggle username: yolandaesterbritonga\n",
            "Your Kaggle Key: ··········\n",
            "Downloading rice-image-dataset.zip to ./rice-image-dataset\n"
          ]
        },
        {
          "output_type": "stream",
          "name": "stderr",
          "text": [
            "100%|██████████| 219M/219M [00:04<00:00, 49.7MB/s]\n"
          ]
        },
        {
          "output_type": "stream",
          "name": "stdout",
          "text": [
            "\n"
          ]
        }
      ]
    },
    {
      "cell_type": "code",
      "source": [
        "dataset_path = '/content/rice-image-dataset/Rice_Image_Dataset'"
      ],
      "metadata": {
        "id": "2nkjZtpEXRYr"
      },
      "execution_count": 6,
      "outputs": []
    },
    {
      "cell_type": "markdown",
      "source": [
        "**Menghapus kelas .ipynb_checkpoints**"
      ],
      "metadata": {
        "id": "pIwPCq0a9Kgb"
      }
    },
    {
      "cell_type": "code",
      "source": [
        "if '.ipynb_checkpoints' in os.listdir(dataset_path):\n",
        "    os.rmdir(os.path.join(dataset_path, '.ipynb_checkpoints'))"
      ],
      "metadata": {
        "id": "7dJNwdWwXSUT"
      },
      "execution_count": 36,
      "outputs": []
    },
    {
      "cell_type": "code",
      "source": [
        "class_counts = {}\n",
        "total_samples = 0"
      ],
      "metadata": {
        "id": "1UC4VhukXTCB"
      },
      "execution_count": 35,
      "outputs": []
    },
    {
      "cell_type": "code",
      "source": [
        "for class_name in os.listdir(dataset_path):\n",
        "    class_path = os.path.join(dataset_path, class_name)\n",
        "    if os.path.isdir(class_path):\n",
        "        num_samples = len(os.listdir(class_path))\n",
        "        class_counts[class_name] = num_samples"
      ],
      "metadata": {
        "id": "OYMt86BrXT8d"
      },
      "execution_count": 37,
      "outputs": []
    },
    {
      "cell_type": "code",
      "source": [
        "for class_name, count in class_counts.items():\n",
        "    print(f\"Kelas: {class_name}, Jumlah Sampel: {count}\")"
      ],
      "metadata": {
        "colab": {
          "base_uri": "https://localhost:8080/"
        },
        "id": "CR5MDOaDXU8u",
        "outputId": "40a3122f-44a9-4b75-dee8-41f4ec8c31aa"
      },
      "execution_count": 38,
      "outputs": [
        {
          "output_type": "stream",
          "name": "stdout",
          "text": [
            "Kelas: Basmati, Jumlah Sampel: 15000\n",
            "Kelas: Jasmine, Jumlah Sampel: 15000\n",
            "Kelas: Ipsala, Jumlah Sampel: 15000\n",
            "Kelas: Arborio, Jumlah Sampel: 15000\n",
            "Kelas: Karacadag, Jumlah Sampel: 15000\n"
          ]
        }
      ]
    },
    {
      "cell_type": "code",
      "source": [
        "for class_name in os.listdir(dataset_path):\n",
        "    class_path = os.path.join(dataset_path, class_name)\n",
        "\n",
        "    if os.path.isdir(class_path):\n",
        "        num_samples = len(os.listdir(class_path))\n",
        "        total_samples += num_samples"
      ],
      "metadata": {
        "id": "5ZdMkArzXV5i"
      },
      "execution_count": 39,
      "outputs": []
    },
    {
      "cell_type": "code",
      "source": [
        "print(f\"Total Keseluruhan Sampel: {total_samples}\")"
      ],
      "metadata": {
        "colab": {
          "base_uri": "https://localhost:8080/"
        },
        "id": "phpo_ZGcXWrh",
        "outputId": "7e703bc3-8b52-4cb2-c733-f04d227f8a6d"
      },
      "execution_count": 40,
      "outputs": [
        {
          "output_type": "stream",
          "name": "stdout",
          "text": [
            "Total Keseluruhan Sampel: 75000\n"
          ]
        }
      ]
    },
    {
      "cell_type": "code",
      "source": [
        "num_classes = len(class_counts)\n",
        "print(f\"Jumlah Kelas: {num_classes}\")"
      ],
      "metadata": {
        "colab": {
          "base_uri": "https://localhost:8080/"
        },
        "id": "yP4emWyjXXkO",
        "outputId": "7dfd776b-9ba4-4c53-f719-f653f81c1725"
      },
      "execution_count": 41,
      "outputs": [
        {
          "output_type": "stream",
          "name": "stdout",
          "text": [
            "Jumlah Kelas: 5\n"
          ]
        }
      ]
    },
    {
      "cell_type": "markdown",
      "source": [
        "**Membuat direktori baru untuk train dan test**"
      ],
      "metadata": {
        "id": "saVguoQs9Xuj"
      }
    },
    {
      "cell_type": "code",
      "source": [
        "train_dir = '/content/rice-image-dataset/train'\n",
        "test_dir = '/content/rice-image-dataset/test'"
      ],
      "metadata": {
        "id": "VmE19P_0XYc3"
      },
      "execution_count": 14,
      "outputs": []
    },
    {
      "cell_type": "markdown",
      "source": [
        "**Membagi dataset menjadi train dan test**"
      ],
      "metadata": {
        "id": "6gWJf6zI9b4m"
      }
    },
    {
      "cell_type": "code",
      "source": [
        "for class_name in os.listdir(dataset_path):\n",
        "    class_path = os.path.join(dataset_path, class_name)\n",
        "\n",
        "    if os.path.isdir(class_path):\n",
        "        image_list = os.listdir(class_path)\n",
        "        train_images, test_images = train_test_split(image_list, test_size=0.2, random_state=42)\n",
        "\n",
        "        # Membuat direktori kelas di train dan test\n",
        "        os.makedirs(os.path.join(train_dir, class_name), exist_ok=True)\n",
        "        os.makedirs(os.path.join(test_dir, class_name), exist_ok=True)\n",
        "\n",
        "        # Menyalin gambar ke direktori train\n",
        "        for image in train_images:\n",
        "            shutil.copy(os.path.join(class_path, image), os.path.join(train_dir, class_name, image))\n",
        "\n",
        "        # Menyalin gambar ke direktori test\n",
        "        for image in test_images:\n",
        "            shutil.copy(os.path.join(class_path, image), os.path.join(test_dir, class_name, image))"
      ],
      "metadata": {
        "id": "3XhhBEFrXbfL"
      },
      "execution_count": 15,
      "outputs": []
    },
    {
      "cell_type": "markdown",
      "source": [
        "**Image Data Augmentation**"
      ],
      "metadata": {
        "id": "l4nKNoDi9iwW"
      }
    },
    {
      "cell_type": "code",
      "source": [
        "train_datagen = ImageDataGenerator(\n",
        "    rescale=1./255,\n",
        "    shear_range=0.2,\n",
        "    zoom_range=0.2,\n",
        "    horizontal_flip=True\n",
        ")"
      ],
      "metadata": {
        "id": "YdGCfWD0Xe3E"
      },
      "execution_count": 16,
      "outputs": []
    },
    {
      "cell_type": "code",
      "source": [
        "test_datagen = ImageDataGenerator(rescale=1./255)"
      ],
      "metadata": {
        "id": "BPhru-TjXjK9"
      },
      "execution_count": 17,
      "outputs": []
    },
    {
      "cell_type": "markdown",
      "source": [
        "**Path untuk train dan test**"
      ],
      "metadata": {
        "id": "X8i9yIxd9mgU"
      }
    },
    {
      "cell_type": "code",
      "source": [
        "train_data_path = '/content/rice-image-dataset/train'\n",
        "test_data_path = '/content/rice-image-dataset/test'"
      ],
      "metadata": {
        "id": "DudKA_tdXj_y"
      },
      "execution_count": 18,
      "outputs": []
    },
    {
      "cell_type": "markdown",
      "source": [
        "**Data dari Directory**"
      ],
      "metadata": {
        "id": "r3pm3Agw9vLY"
      }
    },
    {
      "cell_type": "code",
      "source": [
        "train_generator = train_datagen.flow_from_directory(\n",
        "    train_data_path,\n",
        "    target_size=(224, 224),\n",
        "    batch_size=32,\n",
        "    class_mode='categorical'\n",
        ")"
      ],
      "metadata": {
        "colab": {
          "base_uri": "https://localhost:8080/"
        },
        "id": "fCakEPvfXlAB",
        "outputId": "c4a82097-d556-4b96-9199-8464d9fdc462"
      },
      "execution_count": 19,
      "outputs": [
        {
          "output_type": "stream",
          "name": "stdout",
          "text": [
            "Found 60000 images belonging to 5 classes.\n"
          ]
        }
      ]
    },
    {
      "cell_type": "code",
      "source": [
        "test_generator = test_datagen.flow_from_directory(\n",
        "    test_data_path,\n",
        "    target_size=(224, 224),\n",
        "    batch_size=32,\n",
        "    class_mode='categorical'\n",
        ")"
      ],
      "metadata": {
        "colab": {
          "base_uri": "https://localhost:8080/"
        },
        "id": "v86W_o4IXmB_",
        "outputId": "900e391d-1414-44d4-873a-726a952789d6"
      },
      "execution_count": 20,
      "outputs": [
        {
          "output_type": "stream",
          "name": "stdout",
          "text": [
            "Found 15000 images belonging to 5 classes.\n"
          ]
        }
      ]
    },
    {
      "cell_type": "markdown",
      "source": [
        "**Membangun Model**"
      ],
      "metadata": {
        "id": "Ra4qgvXv90Ns"
      }
    },
    {
      "cell_type": "code",
      "source": [
        "base_model = InceptionV3(weights='imagenet', include_top=False, input_shape=(224, 224, 3))"
      ],
      "metadata": {
        "colab": {
          "base_uri": "https://localhost:8080/"
        },
        "id": "g63Q-QUKXnRM",
        "outputId": "2cb9b99e-54c9-4a49-8cb6-f3974a7f599f"
      },
      "execution_count": 21,
      "outputs": [
        {
          "output_type": "stream",
          "name": "stdout",
          "text": [
            "Downloading data from https://storage.googleapis.com/tensorflow/keras-applications/inception_v3/inception_v3_weights_tf_dim_ordering_tf_kernels_notop.h5\n",
            "87910968/87910968 [==============================] - 1s 0us/step\n"
          ]
        }
      ]
    },
    {
      "cell_type": "code",
      "source": [
        "for layer in base_model.layers:\n",
        "    layer.trainable = False"
      ],
      "metadata": {
        "id": "ZyMx1FGNXoP6"
      },
      "execution_count": 22,
      "outputs": []
    },
    {
      "cell_type": "code",
      "source": [
        "model = Sequential()\n",
        "model.add(base_model)\n",
        "model.add(Conv2D(64, (3, 3), activation='relu'))\n",
        "model.add(MaxPooling2D(pool_size=(2, 2)))\n",
        "model.add(Flatten())\n",
        "model.add(Dense(128, activation='relu'))\n",
        "model.add(Dropout(0.5))\n",
        "model.add(Dense(len(train_generator.class_indices), activation='softmax'))"
      ],
      "metadata": {
        "id": "Ep5oZP8SXozY"
      },
      "execution_count": 23,
      "outputs": []
    },
    {
      "cell_type": "markdown",
      "source": [
        "**Compile Model**"
      ],
      "metadata": {
        "id": "xjMzOcOY96db"
      }
    },
    {
      "cell_type": "code",
      "source": [
        "model.compile(optimizer=Adam(learning_rate=0.001), loss='categorical_crossentropy', metrics=['accuracy'])"
      ],
      "metadata": {
        "id": "9MsmiZTjXqxV"
      },
      "execution_count": 32,
      "outputs": []
    },
    {
      "cell_type": "markdown",
      "source": [
        "**Penggunaan Callbacks**"
      ],
      "metadata": {
        "id": "2J4_J697987W"
      }
    },
    {
      "cell_type": "code",
      "source": [
        "checkpoint = ModelCheckpoint(\"best_model.h5\", save_best_only=True)\n",
        "early_stopping = EarlyStopping(monitor='val_loss', patience=5, restore_best_weights=True)"
      ],
      "metadata": {
        "id": "r3cySceQXt5G"
      },
      "execution_count": 25,
      "outputs": []
    },
    {
      "cell_type": "markdown",
      "source": [
        "**Melatih Model**"
      ],
      "metadata": {
        "id": "udV5sGo19_sF"
      }
    },
    {
      "cell_type": "code",
      "source": [
        "history = model.fit(\n",
        "    train_generator,\n",
        "    steps_per_epoch=train_generator.samples // 32,\n",
        "    epochs=20,\n",
        "    validation_data=test_generator,\n",
        "    validation_steps=test_generator.samples // 32,\n",
        "    callbacks=[checkpoint, early_stopping]\n",
        ")"
      ],
      "metadata": {
        "colab": {
          "base_uri": "https://localhost:8080/"
        },
        "id": "zgUibnkcXu1L",
        "outputId": "7e529ad1-cb26-4e11-9115-31f1a7daa2b7"
      },
      "execution_count": 26,
      "outputs": [
        {
          "output_type": "stream",
          "name": "stdout",
          "text": [
            "Epoch 1/20\n",
            "1875/1875 [==============================] - ETA: 0s - loss: 0.1607 - accuracy: 0.9525"
          ]
        },
        {
          "output_type": "stream",
          "name": "stderr",
          "text": [
            "/usr/local/lib/python3.10/dist-packages/keras/src/engine/training.py:3103: UserWarning: You are saving your model as an HDF5 file via `model.save()`. This file format is considered legacy. We recommend using instead the native Keras format, e.g. `model.save('my_model.keras')`.\n",
            "  saving_api.save_model(\n"
          ]
        },
        {
          "output_type": "stream",
          "name": "stdout",
          "text": [
            "\b\b\b\b\b\b\b\b\b\b\b\b\b\b\b\b\b\b\b\b\b\b\b\b\b\b\b\b\b\b\b\b\b\b\b\b\b\b\b\b\b\b\b\b\b\b\b\b\b\b\b\b\b\b\b\b\b\b\b\b\b\b\b\b\b\b\b\b\b\b\b\b\b\b\b\b\b\b\b\b\b\b\b\b\b\b\r1875/1875 [==============================] - 792s 416ms/step - loss: 0.1607 - accuracy: 0.9525 - val_loss: 0.0516 - val_accuracy: 0.9847\n",
            "Epoch 2/20\n",
            "1875/1875 [==============================] - 768s 410ms/step - loss: 0.0671 - accuracy: 0.9796 - val_loss: 0.0648 - val_accuracy: 0.9794\n",
            "Epoch 3/20\n",
            "1875/1875 [==============================] - 780s 416ms/step - loss: 0.0553 - accuracy: 0.9829 - val_loss: 0.0372 - val_accuracy: 0.9894\n",
            "Epoch 4/20\n",
            "1875/1875 [==============================] - 773s 412ms/step - loss: 0.0488 - accuracy: 0.9852 - val_loss: 0.0323 - val_accuracy: 0.9911\n",
            "Epoch 5/20\n",
            "1875/1875 [==============================] - 776s 414ms/step - loss: 0.0439 - accuracy: 0.9868 - val_loss: 0.0336 - val_accuracy: 0.9893\n",
            "Epoch 6/20\n",
            "1875/1875 [==============================] - 764s 407ms/step - loss: 0.0422 - accuracy: 0.9871 - val_loss: 0.0295 - val_accuracy: 0.9915\n",
            "Epoch 7/20\n",
            "1875/1875 [==============================] - 764s 407ms/step - loss: 0.0421 - accuracy: 0.9883 - val_loss: 0.0251 - val_accuracy: 0.9930\n",
            "Epoch 8/20\n",
            "1875/1875 [==============================] - 780s 416ms/step - loss: 0.0378 - accuracy: 0.9887 - val_loss: 0.0284 - val_accuracy: 0.9909\n",
            "Epoch 9/20\n",
            "1875/1875 [==============================] - 770s 410ms/step - loss: 0.0364 - accuracy: 0.9896 - val_loss: 0.0284 - val_accuracy: 0.9918\n",
            "Epoch 10/20\n",
            "1875/1875 [==============================] - 772s 412ms/step - loss: 0.0358 - accuracy: 0.9899 - val_loss: 0.0357 - val_accuracy: 0.9905\n",
            "Epoch 11/20\n",
            "1875/1875 [==============================] - 767s 409ms/step - loss: 0.0319 - accuracy: 0.9907 - val_loss: 0.0323 - val_accuracy: 0.9890\n",
            "Epoch 12/20\n",
            "1875/1875 [==============================] - 772s 412ms/step - loss: 0.0320 - accuracy: 0.9905 - val_loss: 0.0258 - val_accuracy: 0.9928\n"
          ]
        }
      ]
    },
    {
      "cell_type": "markdown",
      "source": [
        "**Membuat Akurasi untuk Training dan Validation**"
      ],
      "metadata": {
        "id": "-tV7xotj-C9N"
      }
    },
    {
      "cell_type": "code",
      "source": [
        "train_accuracy = history.history['accuracy'][-1] * 100\n",
        "validation_accuracy = history.history['val_accuracy'][-1] * 100"
      ],
      "metadata": {
        "id": "kdF9ldR8XwC8"
      },
      "execution_count": 27,
      "outputs": []
    },
    {
      "cell_type": "code",
      "source": [
        "print(f'Akurasi Training: {train_accuracy:.2f}%')\n",
        "print(f'Akurasi Validation: {validation_accuracy:.2f}%')"
      ],
      "metadata": {
        "colab": {
          "base_uri": "https://localhost:8080/"
        },
        "id": "Wzpe-AYvXw9V",
        "outputId": "0b415d26-44e8-4dd5-8070-f481015de2d7"
      },
      "execution_count": 28,
      "outputs": [
        {
          "output_type": "stream",
          "name": "stdout",
          "text": [
            "Akurasi Training: 99.05%\n",
            "Akurasi Validation: 99.28%\n"
          ]
        }
      ]
    },
    {
      "cell_type": "markdown",
      "source": [
        "**Membuat Plot Akurasi**"
      ],
      "metadata": {
        "id": "MYTmTSaY-JJ6"
      }
    },
    {
      "cell_type": "code",
      "source": [
        "plt.plot(history.history['accuracy'])\n",
        "plt.plot(history.history['val_accuracy'])\n",
        "plt.title('Model Accuracy')\n",
        "plt.ylabel('Accuracy (%)')\n",
        "plt.xlabel('Epoch')\n",
        "plt.legend(['Train', 'Validation'], loc='upper left')\n",
        "plt.show()"
      ],
      "metadata": {
        "colab": {
          "base_uri": "https://localhost:8080/",
          "height": 472
        },
        "id": "UEuUTtkrXyFa",
        "outputId": "0c303619-cb83-4f9e-ee65-b39ae4e09cfd"
      },
      "execution_count": 29,
      "outputs": [
        {
          "output_type": "display_data",
          "data": {
            "text/plain": [
              "<Figure size 640x480 with 1 Axes>"
            ],
            "image/png": "[encoded data removed]"
          },
          "metadata": {}
        }
      ]
    },
    {
      "cell_type": "markdown",
      "source": [
        "**Membuat Plot Loss**"
      ],
      "metadata": {
        "id": "9lkXzxUW-MYZ"
      }
    },
    {
      "cell_type": "code",
      "source": [
        "plt.plot(history.history['loss'])\n",
        "plt.plot(history.history['val_loss'])\n",
        "plt.title('Model Loss')\n",
        "plt.ylabel('Loss')\n",
        "plt.xlabel('Epoch')\n",
        "plt.legend(['Train', 'Validation'], loc='upper left')\n",
        "plt.show()"
      ],
      "metadata": {
        "colab": {
          "base_uri": "https://localhost:8080/",
          "height": 472
        },
        "id": "6aNezTX6X0Mg",
        "outputId": "124050e9-f79e-4be8-b4ab-78b69ea51342"
      },
      "execution_count": 30,
      "outputs": [
        {
          "output_type": "display_data",
          "data": {
            "text/plain": [
              "<Figure size 640x480 with 1 Axes>"
            ],
            "image/png": "[encoded data removed]"
          },
          "metadata": {}
        }
      ]
    },
    {
      "cell_type": "markdown",
      "source": [
        "**Menyimpan model ke dalam format TF-Lite**"
      ],
      "metadata": {
        "id": "GGQ7aEjl-OKE"
      }
    },
    {
      "cell_type": "code",
      "source": [
        "converter = tf.lite.TFLiteConverter.from_keras_model(model)\n",
        "tflite_model = converter.convert()\n",
        "with open('model.tflite', 'wb') as f:\n",
        "    f.write(tflite_model)"
      ],
      "metadata": {
        "id": "pm-egDmtX1CQ"
      },
      "execution_count": 31,
      "outputs": []
    },
    {
      "cell_type": "code",
      "source": [
        "file_size = os.path.getsize('model.tflite')\n",
        "print(f\"Ukuran File TFLite: {file_size} bytes\")"
      ],
      "metadata": {
        "colab": {
          "base_uri": "https://localhost:8080/"
        },
        "id": "KK1VhZRU-oDe",
        "outputId": "4d5fa54f-5c40-47b7-93e4-1f7c5464851b"
      },
      "execution_count": 45,
      "outputs": [
        {
          "output_type": "stream",
          "name": "stdout",
          "text": [
            "Ukuran File TFLite: 91890640 bytes\n"
          ]
        }
      ]
    }
  ]
}